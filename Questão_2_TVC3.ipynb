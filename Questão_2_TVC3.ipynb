{
  "nbformat": 4,
  "nbformat_minor": 0,
  "metadata": {
    "colab": {
      "name": "Questão_2_TVC3.ipynb",
      "provenance": [],
      "collapsed_sections": []
    },
    "kernelspec": {
      "name": "python3",
      "display_name": "Python 3"
    }
  },
  "cells": [
    {
      "cell_type": "markdown",
      "metadata": {
        "id": "BV1-ZZr8-bNh"
      },
      "source": [
        "##Distribuição binomial"
      ]
    },
    {
      "cell_type": "code",
      "metadata": {
        "id": "6ex-2Wz7-iWw"
      },
      "source": [
        "def distribuição_binomial(x,n,teta):\n",
        "  combination = math.factorial(n)/(math.factorial(n-x)*math.factorial(x))  \n",
        "  return combination*teta**x*(1-teta)**(n-x)"
      ],
      "execution_count": 54,
      "outputs": []
    },
    {
      "cell_type": "markdown",
      "metadata": {
        "id": "pu53GFiq_7Gm"
      },
      "source": [
        "##Encontrando valor de K"
      ]
    },
    {
      "cell_type": "code",
      "metadata": {
        "id": "BBZa40k07oe8"
      },
      "source": [
        "numeroDeUnidades = 200\n",
        "teta = 0.99\n",
        "probabilidadeMaxima = 0.95\n",
        "\n",
        "treshold = 0.01 #treshold para a aproximação do valor de k\n",
        "diferença = 0\n",
        "\n",
        "for j in range(0,201):\n",
        "  resultado = 0\n",
        "  diferença = 0\n",
        "  for i in range(j,201):\n",
        "    resultado = resultado  + distribuição_binomial(i,numeroDeUnidades,teta)\n",
        "\n",
        "  diferença = abs(resultado - probabilidadeMaxima)\n",
        "\n",
        "  if (diferença < treshold):\n",
        "      k = j"
      ],
      "execution_count": 60,
      "outputs": []
    },
    {
      "cell_type": "code",
      "metadata": {
        "colab": {
          "base_uri": "https://localhost:8080/"
        },
        "id": "EeXGV2TKCxwT",
        "outputId": "35189e99-1e69-47fa-92dd-b8968a511efb"
      },
      "source": [
        "k"
      ],
      "execution_count": 61,
      "outputs": [
        {
          "output_type": "execute_result",
          "data": {
            "text/plain": [
              "196"
            ]
          },
          "metadata": {
            "tags": []
          },
          "execution_count": 61
        }
      ]
    }
  ]
}